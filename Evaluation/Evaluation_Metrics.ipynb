{
  "nbformat": 4,
  "nbformat_minor": 0,
  "metadata": {
    "colab": {
      "provenance": []
    },
    "kernelspec": {
      "name": "python3",
      "display_name": "Python 3"
    },
    "language_info": {
      "name": "python"
    }
  },
  "cells": [
    {
      "cell_type": "markdown",
      "source": [
        "# Evaluation"
      ],
      "metadata": {
        "id": "ZS6IAnuA2X2B"
      }
    },
    {
      "cell_type": "code",
      "source": [
        "import locale\n",
        "def getpreferredencoding(do_setlocale = True):\n",
        "    return \"UTF-8\"\n",
        "locale.getpreferredencoding = getpreferredencoding\n",
        "!pip install -qqq evaluate==0.4.1\n",
        "!pip install sentence-transformers\n",
        "!pip install rouge_score"
      ],
      "metadata": {
        "id": "WbJTe3x4F27Y"
      },
      "execution_count": null,
      "outputs": []
    },
    {
      "cell_type": "code",
      "source": [
        "import evaluate\n",
        "import pandas as pd\n",
        "from sentence_transformers import SentenceTransformer, util\n",
        "import numpy as np\n",
        "import matplotlib.pyplot as plt"
      ],
      "metadata": {
        "id": "aFnsjn7Tchko"
      },
      "execution_count": 2,
      "outputs": []
    },
    {
      "cell_type": "code",
      "source": [
        "responses_original = pd.read_csv(\"responses_original.csv\")\n",
        "responses_tuned = pd.read_csv(\"responses_tuned.csv\")"
      ],
      "metadata": {
        "id": "_q6zFL5eXQUS"
      },
      "execution_count": 3,
      "outputs": []
    },
    {
      "cell_type": "markdown",
      "source": [
        "## Evaluation"
      ],
      "metadata": {
        "id": "F08vwuvbkfWc"
      }
    },
    {
      "cell_type": "markdown",
      "source": [
        "### Squad V2\n",
        "\n",
        "https://huggingface.co/spaces/evaluate-metric/squad_v2"
      ],
      "metadata": {
        "id": "HRx7Quikh4Dr"
      }
    },
    {
      "cell_type": "code",
      "source": [
        "squad_metric = evaluate.load(\"squad_v2\")"
      ],
      "metadata": {
        "id": "1tsg8O-dcjxb"
      },
      "execution_count": null,
      "outputs": []
    },
    {
      "cell_type": "code",
      "source": [
        "def calculate_squad_metric(responses):\n",
        "  predictions = [{'id': str(i), 'prediction_text': responses[\"actual\"][i], 'no_answer_probability': 0} for i in range(len(responses))]\n",
        "  references = [{'id': str(i), 'answers': {\"answer_start\": [0], \"text\": [responses[\"correct\"][i]]}} for i in range(len(responses))]\n",
        "\n",
        "  results = squad_metric.compute(predictions=predictions, references=references)\n",
        "  return results"
      ],
      "metadata": {
        "id": "0c-pGgsGc3eZ"
      },
      "execution_count": 5,
      "outputs": []
    },
    {
      "cell_type": "code",
      "source": [
        "squad_original = calculate_squad_metric(responses_original)\n",
        "squad_tuned = calculate_squad_metric(responses_tuned)\n",
        "\n",
        "print(\"Original SQUAD Score:\")\n",
        "[print(f\"{metric}: {squad_original[metric]}\") for metric in squad_original]\n",
        "f1_original = squad_original[\"f1\"]\n",
        "\n",
        "print(\"\\nTuned SQUAD Score:\")\n",
        "[print(f\"{metric}: {squad_tuned[metric]}\") for metric in squad_tuned]\n",
        "f1_tuned = squad_tuned[\"f1\"]\n",
        "pass"
      ],
      "metadata": {
        "colab": {
          "base_uri": "https://localhost:8080/"
        },
        "id": "y_W-3r33qzj5",
        "outputId": "a0394360-a698-4f8a-c783-3a5890a087f5"
      },
      "execution_count": 6,
      "outputs": [
        {
          "output_type": "stream",
          "name": "stdout",
          "text": [
            "Original SQUAD Score:\n",
            "exact: 0.0\n",
            "f1: 2.6347849929230915\n",
            "total: 251\n",
            "HasAns_exact: 0.0\n",
            "HasAns_f1: 2.6347849929230915\n",
            "HasAns_total: 251\n",
            "best_exact: 0.0\n",
            "best_exact_thresh: 0.0\n",
            "best_f1: 2.6347849929230915\n",
            "best_f1_thresh: 0.0\n",
            "\n",
            "Tuned SQUAD Score:\n",
            "exact: 0.398406374501992\n",
            "f1: 7.262526891723157\n",
            "total: 251\n",
            "HasAns_exact: 0.398406374501992\n",
            "HasAns_f1: 7.262526891723157\n",
            "HasAns_total: 251\n",
            "best_exact: 0.398406374501992\n",
            "best_exact_thresh: 0.0\n",
            "best_f1: 7.262526891723157\n",
            "best_f1_thresh: 0.0\n"
          ]
        }
      ]
    },
    {
      "cell_type": "markdown",
      "source": [
        "The SQuAD Score combines multiple useful metrics. An interesting one is the F1 Socre, which works on individual tokens in this case. The tuned model is showing a significant improvement. Both scores are still very low, which is a consequence of the open question answering format."
      ],
      "metadata": {
        "id": "rlFqEePx1_vZ"
      }
    },
    {
      "cell_type": "markdown",
      "source": [
        "### Sentence Similarity\n",
        "\n",
        "https://huggingface.co/tasks/sentence-similarity\n",
        "\n",
        "Sentence similarity uses a sentence transformer to create embeddings and then calculates the average cosine similarity between the correct and actual responses."
      ],
      "metadata": {
        "id": "J1X4EeTg4vv3"
      }
    },
    {
      "cell_type": "code",
      "source": [
        "sentence_transformer = SentenceTransformer('sentence-transformers/all-MiniLM-L6-v2')"
      ],
      "metadata": {
        "id": "gu9ha3Qb5m39"
      },
      "execution_count": null,
      "outputs": []
    },
    {
      "cell_type": "code",
      "source": [
        "def calculate_sentence_similarity(responses):\n",
        "  similarities = []\n",
        "  for correct_res, actual_res in zip(responses[\"correct\"], responses[\"actual\"]):\n",
        "    embedding_1= sentence_transformer.encode(correct_res, convert_to_tensor=True)\n",
        "    try:\n",
        "      embedding_2 = sentence_transformer.encode(actual_res, convert_to_tensor=True)\n",
        "    except TypeError:\n",
        "      # handle error caused by empty response\n",
        "      embedding_2 = sentence_transformer.encode(str(actual_res), convert_to_tensor=True)\n",
        "\n",
        "    similarities.append(util.pytorch_cos_sim(embedding_1, embedding_2).item())\n",
        "\n",
        "  return np.average(similarities)"
      ],
      "metadata": {
        "id": "Mu5ccRjM4tCJ"
      },
      "execution_count": 8,
      "outputs": []
    },
    {
      "cell_type": "code",
      "source": [
        "sentence_sim_original = calculate_sentence_similarity(responses_original)\n",
        "sentence_sim_original"
      ],
      "metadata": {
        "colab": {
          "base_uri": "https://localhost:8080/"
        },
        "id": "XlDS1f0A5-s6",
        "outputId": "aef6030f-0f05-44c2-eb90-6722d33ef38c"
      },
      "execution_count": 9,
      "outputs": [
        {
          "output_type": "execute_result",
          "data": {
            "text/plain": [
              "0.22812464030875093"
            ]
          },
          "metadata": {},
          "execution_count": 9
        }
      ]
    },
    {
      "cell_type": "code",
      "source": [
        "sentence_sim_tuned = calculate_sentence_similarity(responses_tuned)\n",
        "sentence_sim_tuned"
      ],
      "metadata": {
        "colab": {
          "base_uri": "https://localhost:8080/"
        },
        "id": "xw-0TGVt7Nq6",
        "outputId": "0575771e-6477-4b89-a4bd-11545561670a"
      },
      "execution_count": 10,
      "outputs": [
        {
          "output_type": "execute_result",
          "data": {
            "text/plain": [
              "0.27446122808879114"
            ]
          },
          "metadata": {},
          "execution_count": 10
        }
      ]
    },
    {
      "cell_type": "markdown",
      "source": [
        "### ROUGE Score\n",
        "\n",
        "https://huggingface.co/spaces/evaluate-metric/rouge\n",
        "\n",
        "The ROUGE score is a metric desinged to evaluate translations and summaries. Since it compares predictions with ground truths, it can be used for our purposes. We use two of its outputs: The Unigram ROUGE1 Score and the Bigram ROUGE2 Score."
      ],
      "metadata": {
        "id": "0CPHPG-a-WUW"
      }
    },
    {
      "cell_type": "code",
      "source": [
        "rouge = evaluate.load('rouge')"
      ],
      "metadata": {
        "id": "kd7JmM6S-c8f"
      },
      "execution_count": null,
      "outputs": []
    },
    {
      "cell_type": "code",
      "source": [
        "def calculate_rouge_score(responses):\n",
        "  return rouge.compute(predictions=responses[\"actual\"],\n",
        "                          references=responses[\"correct\"],\n",
        "                          use_stemmer=True)"
      ],
      "metadata": {
        "id": "axgaYhZc909P"
      },
      "execution_count": 74,
      "outputs": []
    },
    {
      "cell_type": "code",
      "source": [
        "rouge_original = calculate_rouge_score(responses_original)\n",
        "rouge1_original = rouge_original[\"rouge1\"]\n",
        "rouge2_original = rouge_original[\"rouge2\"]\n",
        "\n",
        "rouge_tuned = calculate_rouge_score(responses_tuned)\n",
        "rouge1_tuned = rouge_tuned[\"rouge1\"]\n",
        "rouge2_tuned = rouge_tuned[\"rouge2\"]"
      ],
      "metadata": {
        "id": "ykS6Ea85-XpV"
      },
      "execution_count": 75,
      "outputs": []
    },
    {
      "cell_type": "markdown",
      "source": [
        "### Plots"
      ],
      "metadata": {
        "id": "A4lfx7Zy9qCS"
      }
    },
    {
      "cell_type": "markdown",
      "source": [
        "#### Plot F1 Score and Sentence Similarity"
      ],
      "metadata": {
        "id": "vfakoT8F_G_C"
      }
    },
    {
      "cell_type": "code",
      "source": [
        "bar_width = 0.25\n",
        "br1 = np.arange(2)\n",
        "br2 = [x + bar_width for x in br1]\n",
        "\n",
        "f1_scores = [f1_original, f1_tuned]\n",
        "sentence_sim_scores = [sentence_sim_original, sentence_sim_tuned]\n",
        "\n",
        "fig, ax1 = plt.subplots()\n",
        "\n",
        "colors = [\"tab:red\", \"tab:blue\"]\n",
        "\n",
        "# F1 Metric\n",
        "ax1.set_xlabel('Metric')\n",
        "ax1.set_ylabel('Score')\n",
        "ax1.bar([0], f1_scores[0], color=colors[0], width=bar_width, label=\"Original Model\")\n",
        "ax1.bar([0.25], f1_scores[1], color=colors[1], width=bar_width, label=\"Fine-tuned Model\")\n",
        "ax1.tick_params(axis='y')\n",
        "ax1.legend()\n",
        "\n",
        "# x axis labels\n",
        "ax1.set_xticks([0.125, 1.125])\n",
        "ax1.set_xticklabels(['F1 Score', 'Sentence Similarity'])\n",
        "\n",
        "# second axis that shares the same x-axis for the second metric\n",
        "ax2 = ax1.twinx()\n",
        "\n",
        "# Sentence Similarity Metric\n",
        "ax2.set_ylabel('Score')\n",
        "ax2.bar([1], sentence_sim_scores[0], color=colors[0], width=bar_width)\n",
        "ax2.bar([1.25], sentence_sim_scores[1], color=colors[1], width=bar_width)\n",
        "ax2.tick_params(axis='y')\n",
        "ax2.set_ylim([0,0.35])\n",
        "\n",
        "fig.tight_layout()\n",
        "plt.show()"
      ],
      "metadata": {
        "colab": {
          "base_uri": "https://localhost:8080/",
          "height": 487
        },
        "id": "ncISjpDVz_pC",
        "outputId": "fcfe60c5-b89c-445b-92da-f39215196143"
      },
      "execution_count": 52,
      "outputs": [
        {
          "output_type": "display_data",
          "data": {
            "text/plain": [
              "<Figure size 640x480 with 2 Axes>"
            ],
            "image/png": "[encoded data removed]"
          },
          "metadata": {}
        }
      ]
    },
    {
      "cell_type": "markdown",
      "source": [
        "Both metrics show an improvement in the fine-tuned model's performance over its performance before the fine-tuning. The difference in F1 score is larger, relatively speaking, although both are very low due to the low likelihood of open-form answers containing the same tokens."
      ],
      "metadata": {
        "id": "kZSYpL8D4zgm"
      }
    },
    {
      "cell_type": "markdown",
      "source": [
        "#### Plot ROUGE Score"
      ],
      "metadata": {
        "id": "XVEixP0t_Mg5"
      }
    },
    {
      "cell_type": "code",
      "source": [
        "bar_width = 0.25\n",
        "br1 = np.arange(2)\n",
        "br2 = [x + bar_width for x in br1]\n",
        "\n",
        "rouge1_scores = [rouge1_original, rouge1_tuned]\n",
        "rouge2_scores = [rouge2_original, rouge2_tuned]\n",
        "\n",
        "fig, ax1 = plt.subplots()\n",
        "\n",
        "colors = [\"tab:blue\", \"tab:green\"]\n",
        "\n",
        "# F1 Metric\n",
        "ax1.set_xlabel('Metric')\n",
        "ax1.set_ylabel('Score')\n",
        "ax1.bar([0], rouge1_scores[0], color=colors[0], width=bar_width, label=\"Original Model\")\n",
        "ax1.bar([0.25], rouge1_scores[1], color=colors[1], width=bar_width, label=\"Fine-tuned Model\")\n",
        "ax1.tick_params(axis='y')\n",
        "ax1.legend()\n",
        "\n",
        "# x axis labels\n",
        "ax1.set_xticks([0.125, 1.125])\n",
        "ax1.set_xticklabels(['ROUGE Unigarm Score', 'ROUGE Bigram Score'])\n",
        "\n",
        "# second axis that shares the same x-axis for the second metric\n",
        "ax2 = ax1.twinx()\n",
        "\n",
        "# Sentence Similarity Metric\n",
        "ax2.set_ylabel('Score')\n",
        "ax2.bar([1], rouge2_scores[0], color=colors[0], width=bar_width)\n",
        "ax2.bar([1.25], rouge2_scores[1], color=colors[1], width=bar_width)\n",
        "ax2.tick_params(axis='y')\n",
        "ax2.set_ylim([0,0.03])\n",
        "\n",
        "fig.tight_layout()\n",
        "plt.show()"
      ],
      "metadata": {
        "colab": {
          "base_uri": "https://localhost:8080/",
          "height": 487
        },
        "id": "CKI-iITx_N-g",
        "outputId": "057952e1-708d-4164-8a5d-9a2b43196147"
      },
      "execution_count": 76,
      "outputs": [
        {
          "output_type": "display_data",
          "data": {
            "text/plain": [
              "<Figure size 640x480 with 2 Axes>"
            ],
            "image/png": "[encoded data removed]"
          },
          "metadata": {}
        }
      ]
    },
    {
      "cell_type": "markdown",
      "source": [
        "Both metrics show a significant improvement in the fine-tuned model. This indicates a higher overlap between the fine-tuned model's outputs and the correct answers to the posed questions."
      ],
      "metadata": {
        "id": "p75i-NASBnh9"
      }
    }
  ]
}